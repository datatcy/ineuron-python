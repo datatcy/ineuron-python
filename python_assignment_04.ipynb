{
 "cells": [
  {
   "cell_type": "markdown",
   "metadata": {},
   "source": [
    "#### write a python program (with class concepts) to find the area of teh triangle using the formula  area = (s*(s-a)*(s-b)*(s-c))**0.5"
   ]
  },
  {
   "cell_type": "code",
   "execution_count": 54,
   "metadata": {},
   "outputs": [],
   "source": [
    "def areaTriangle(a,b,c):\n",
    "    s = (a+b+c)/2\n",
    "    return round((s*(s-a)*(s-b)*(s-c))**0.5,2)"
   ]
  },
  {
   "cell_type": "code",
   "execution_count": 55,
   "metadata": {},
   "outputs": [
    {
     "data": {
      "text/plain": [
       "1.73"
      ]
     },
     "execution_count": 55,
     "metadata": {},
     "output_type": "execute_result"
    }
   ],
   "source": [
    "areaTriangle(2,2,2)"
   ]
  },
  {
   "cell_type": "code",
   "execution_count": 39,
   "metadata": {},
   "outputs": [],
   "source": [
    "class enterValue():\n",
    "    def __init__(self):\n",
    "        self.a = int(input('Enter value of a: '))\n",
    "        self.b = int(input('Enter value of b: '))\n",
    "        self.c = int(input('Enter value of c: '))\n",
    "\n",
    "class triAngle(enterValue):\n",
    "    def __init__(self):\n",
    "        enterValue.__init__(self)\n",
    "        s = (self.a+self.b+self.c)/2\n",
    "        self.result = round((s * (s - self.a) * (s - self.b) * (s - self.c))**0.5,2)\n",
    "    def __float__(self):\n",
    "        return result"
   ]
  },
  {
   "cell_type": "code",
   "execution_count": 40,
   "metadata": {},
   "outputs": [
    {
     "name": "stdout",
     "output_type": "stream",
     "text": [
      "Enter value of a: 2\n",
      "Enter value of b: 2\n",
      "Enter value of c: 2\n"
     ]
    }
   ],
   "source": [
    "x = triAngle()"
   ]
  },
  {
   "cell_type": "code",
   "execution_count": 41,
   "metadata": {},
   "outputs": [
    {
     "data": {
      "text/plain": [
       "1.73"
      ]
     },
     "execution_count": 41,
     "metadata": {},
     "output_type": "execute_result"
    }
   ],
   "source": [
    "x.result\n"
   ]
  },
  {
   "cell_type": "markdown",
   "metadata": {},
   "source": [
    "#### Write a function filter_long_words() that takes a list of words and an integer n and returns the list of words that are longer than n"
   ]
  },
  {
   "cell_type": "code",
   "execution_count": 56,
   "metadata": {},
   "outputs": [],
   "source": [
    "lst = ['one','two','three','four','five','six','seven','eight','nine','ten']\n",
    "def filter_long_words(lst,num):\n",
    "    for i in lst:\n",
    "        if len(i) > num:\n",
    "            print(i)\n",
    "    "
   ]
  },
  {
   "cell_type": "code",
   "execution_count": 57,
   "metadata": {},
   "outputs": [
    {
     "name": "stdout",
     "output_type": "stream",
     "text": [
      "three\n",
      "seven\n",
      "eight\n"
     ]
    }
   ],
   "source": [
    "filter_long_words(lst,4)"
   ]
  },
  {
   "cell_type": "markdown",
   "metadata": {},
   "source": [
    "####  write a python program using function concept that maps list of words into a iist of integers representing the lengths of the corresponding words Hint: if a list [ab,cde,erty] i spassed on to the python function output should come as [2,3,4] here 2,3 and 4 are thelengths of the words in the list"
   ]
  },
  {
   "cell_type": "code",
   "execution_count": 58,
   "metadata": {},
   "outputs": [],
   "source": [
    "lst = ['ab','cde','fghi','jklmn']\n",
    "def lenword(lst):\n",
    "    num=[]\n",
    "    for i in lst:\n",
    "        num.append(len(i))\n",
    "    return num"
   ]
  },
  {
   "cell_type": "code",
   "execution_count": 59,
   "metadata": {},
   "outputs": [
    {
     "data": {
      "text/plain": [
       "[2, 3, 4, 5]"
      ]
     },
     "execution_count": 59,
     "metadata": {},
     "output_type": "execute_result"
    }
   ],
   "source": [
    "lenword(lst)"
   ]
  },
  {
   "cell_type": "markdown",
   "metadata": {},
   "source": [
    "#### write a python function which takes a character (i.e., a string of length 1) and returns True if it is vowel, Fales otherwise"
   ]
  },
  {
   "cell_type": "code",
   "execution_count": 60,
   "metadata": {},
   "outputs": [],
   "source": [
    "def vow(a):\n",
    "    vow = ['a','e','i','o','u']\n",
    "    if a in vow:\n",
    "        return True\n",
    "    else:\n",
    "        return False"
   ]
  },
  {
   "cell_type": "code",
   "execution_count": 61,
   "metadata": {},
   "outputs": [
    {
     "data": {
      "text/plain": [
       "True"
      ]
     },
     "execution_count": 61,
     "metadata": {},
     "output_type": "execute_result"
    }
   ],
   "source": [
    "vow('i')"
   ]
  },
  {
   "cell_type": "code",
   "execution_count": null,
   "metadata": {},
   "outputs": [],
   "source": []
  }
 ],
 "metadata": {
  "kernelspec": {
   "display_name": "Python 3",
   "language": "python",
   "name": "python3"
  },
  "language_info": {
   "codemirror_mode": {
    "name": "ipython",
    "version": 3
   },
   "file_extension": ".py",
   "mimetype": "text/x-python",
   "name": "python",
   "nbconvert_exporter": "python",
   "pygments_lexer": "ipython3",
   "version": "3.7.3"
  }
 },
 "nbformat": 4,
 "nbformat_minor": 2
}
