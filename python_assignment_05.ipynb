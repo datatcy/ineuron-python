{
 "cells": [
  {
   "cell_type": "markdown",
   "metadata": {},
   "source": [
    "Write a function to compute 5/0 and use try/except to catch the exception"
   ]
  },
  {
   "cell_type": "code",
   "execution_count": 9,
   "metadata": {},
   "outputs": [],
   "source": [
    "def funck():\n",
    "    x = int(input('Enter X value'))\n",
    "    y = int(input('Enter Y value'))\n",
    "    try: \n",
    "        return x/y\n",
    "    except ZeroDivisionError:\n",
    "        print('Check Y value')         "
   ]
  },
  {
   "cell_type": "code",
   "execution_count": 7,
   "metadata": {},
   "outputs": [
    {
     "name": "stdout",
     "output_type": "stream",
     "text": [
      "Enter X value1\n",
      "Enter Y value0\n",
      "Check Y value\n"
     ]
    }
   ],
   "source": [
    "funck()"
   ]
  },
  {
   "cell_type": "markdown",
   "metadata": {},
   "source": [
    "Implement a Python program to generate all sentences where subject is in ['Americans','Indians'] and verb is in ['Play','watch'] and the object is in ['Baseball',''cricket']\n",
    "Hint: Subject,Verb and Object should be declared in the program as shown\n",
    "subjects =['Americans','Indians] verbs ['play','watch'] objects =['Baseball','Cricket']"
   ]
  },
  {
   "cell_type": "code",
   "execution_count": 10,
   "metadata": {},
   "outputs": [
    {
     "name": "stdout",
     "output_type": "stream",
     "text": [
      "Americans play Baseall\n",
      "Americans play Cricket\n",
      "Americans watch Baseall\n",
      "Americans watch Cricket\n",
      "Indians play Baseall\n",
      "Indians play Cricket\n",
      "Indians watch Baseall\n",
      "Indians watch Cricket\n"
     ]
    }
   ],
   "source": [
    "subjects =['Americans','Indians']\n",
    "verbs =['play','watch']\n",
    "objects =['Baseall','Cricket']\n",
    "\n",
    "for i in subjects:\n",
    "    for j in verbs:\n",
    "        for k in objects:\n",
    "            print(i,j,k)"
   ]
  },
  {
   "cell_type": "code",
   "execution_count": null,
   "metadata": {},
   "outputs": [],
   "source": []
  }
 ],
 "metadata": {
  "kernelspec": {
   "display_name": "Python 3",
   "language": "python",
   "name": "python3"
  },
  "language_info": {
   "codemirror_mode": {
    "name": "ipython",
    "version": 3
   },
   "file_extension": ".py",
   "mimetype": "text/x-python",
   "name": "python",
   "nbconvert_exporter": "python",
   "pygments_lexer": "ipython3",
   "version": "3.7.3"
  }
 },
 "nbformat": 4,
 "nbformat_minor": 2
}
